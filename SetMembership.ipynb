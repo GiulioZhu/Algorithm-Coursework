{
 "cells": [
  {
   "cell_type": "markdown",
   "metadata": {},
   "source": [
    "# Set Membership"
   ]
  },
  {
   "cell_type": "markdown",
   "metadata": {},
   "source": [
    "The cell below defines two **abstract classes**: the first represents a set and basic insert/search operations on it. You will need to impement this API four times, to implement (1) sequential search, (2) binary search tree, (3) balanced search tree, and (4) bloom filter. The second defines the synthetic data generator you will need to implement as part of your experimental framework. <br><br>**Do NOT modify the next cell** - use the dedicated cells further below for your implementation instead. <br>"
   ]
  },
  {
   "cell_type": "code",
   "execution_count": 5,
   "metadata": {},
   "outputs": [],
   "source": [
    "# DO NOT MODIFY THIS CELL\n",
    "\n",
    "from abc import ABC, abstractmethod  \n",
    "\n",
    "# abstract class to represent a set and its insert/search operations\n",
    "class AbstractSet(ABC):\n",
    "    \n",
    "    # constructor\n",
    "    @abstractmethod\n",
    "    def __init__(self):\n",
    "        pass           \n",
    "        \n",
    "    # inserts \"element\" in the set\n",
    "    # returns \"True\" after successful insertion, \"False\" if the element is already in the set\n",
    "    # element : str\n",
    "    # inserted : bool\n",
    "    @abstractmethod\n",
    "    def insertElement(self, element):     \n",
    "        inserted = False\n",
    "        return inserted   \n",
    "    \n",
    "    # checks whether \"element\" is in the set\n",
    "    # returns \"True\" if it is, \"False\" otherwise\n",
    "    # element : str\n",
    "    # found : bool\n",
    "    @abstractmethod\n",
    "    def searchElement(self, element):\n",
    "        found = False\n",
    "        return found    \n",
    "    \n",
    "    \n",
    "    \n",
    "# abstract class to represent a synthetic data generator\n",
    "class AbstractTestDataGenerator(ABC):\n",
    "    \n",
    "    # constructor\n",
    "    @abstractmethod\n",
    "    def __init__(self):\n",
    "        pass           \n",
    "        \n",
    "    # creates and returns a list of length \"size\" of strings\n",
    "    # size : int\n",
    "    # data : list<str>\n",
    "    @abstractmethod\n",
    "    def generateData(self, size):     \n",
    "        data = [\"\"]*size\n",
    "        return data\n"
   ]
  },
  {
   "cell_type": "markdown",
   "metadata": {},
   "source": [
    "Use the cell below to define any auxiliary data structure and python function you may need. Leave the implementation of the main API to the next code cells instead."
   ]
  },
  {
   "cell_type": "code",
   "execution_count": 1,
   "metadata": {},
   "outputs": [],
   "source": [
    "# ADD AUXILIARY DATA STRUCTURE DEFINITIONS AND HELPER CODE HERE\n",
    "\n",
    "class TreeNode:\n",
    "    def __init__(self, val):\n",
    "        self.val = val\n",
    "        self.left = None\n",
    "        self.right = None"
   ]
  },
  {
   "cell_type": "markdown",
   "metadata": {},
   "source": [
    "Use the cell below to implement the requested API by means of **sequential search**."
   ]
  },
  {
   "cell_type": "code",
   "execution_count": 4,
   "metadata": {},
   "outputs": [
    {
     "name": "stdout",
     "output_type": "stream",
     "text": [
      "10 False\n",
      "11 True\n"
     ]
    },
    {
     "data": {
      "text/plain": [
       "True"
      ]
     },
     "execution_count": 4,
     "metadata": {},
     "output_type": "execute_result"
    }
   ],
   "source": [
    "from abc import ABC, abstractmethod\n",
    "\n",
    "class AbstractSet(ABC):\n",
    "    @abstractmethod\n",
    "    def __init__(self):\n",
    "        self.set = []\n",
    "\n",
    "    @abstractmethod\n",
    "    def insertElement(self, element):     \n",
    "        inserted = False\n",
    "        if element not in self.set:\n",
    "            self.set.append(element)\n",
    "            inserted = True\n",
    "        return inserted\n",
    "    \n",
    "    @abstractmethod\n",
    "    def searchElement(self, element):\n",
    "        found = False\n",
    "        if element in self.set:\n",
    "            found = True\n",
    "        return found       \n",
    "    \n",
    "# abstract class to represent a synthetic data generator\n",
    "class AbstractTestDataGenerator(ABC):\n",
    "    \n",
    "    # constructor\n",
    "    @abstractmethod\n",
    "    def __init__(self):\n",
    "        pass           \n",
    "        \n",
    "    # creates and returns a list of length \"size\" of strings\n",
    "    # size : int\n",
    "    # data : list<str>\n",
    "    @abstractmethod\n",
    "    def generateData(self, size):     \n",
    "        data = [\"\"]*size\n",
    "        return data   \n",
    "\n",
    "\n",
    "class SequentialSearchSet(AbstractSet):\n",
    "    def __init__(self):\n",
    "        # ADD YOUR CODE HERE\n",
    "        self.data = []        \n",
    "     \n",
    "    def insertElement(self, element):\n",
    "        inserted = False\n",
    "        # ADD YOUR CODE HERE\n",
    "        if element in self.data:\n",
    "            return inserted\n",
    "        else:\n",
    "            self.data.append(element)\n",
    "            self.data.sort()\n",
    "            inserted = True\n",
    "            return inserted\n",
    "          \n",
    "\n",
    "    def searchElement(self, element):     \n",
    "        found = False\n",
    "        # ADD YOUR CODE HERE\n",
    "        for i in range (len(self.data)):\n",
    "            if self.data[i] == element:\n",
    "                found = True\n",
    "                break\n",
    "        print(element, found)\n",
    "        return found\n",
    "\n",
    "test = SequentialSearchSet()\n",
    "test.insertElement(11)\n",
    "test.insertElement(0)\n",
    "test.insertElement(4)\n",
    "test.searchElement(10)\n",
    "test.searchElement(11)\n"
   ]
  },
  {
   "cell_type": "markdown",
   "metadata": {},
   "source": [
    "Use the cell below to implement the requested API by means of **binary search tree**."
   ]
  },
  {
   "cell_type": "code",
   "execution_count": 1,
   "metadata": {},
   "outputs": [
    {
     "ename": "NameError",
     "evalue": "name 'AbstractSet' is not defined",
     "output_type": "error",
     "traceback": [
      "\u001b[1;31m---------------------------------------------------------------------------\u001b[0m",
      "\u001b[1;31mNameError\u001b[0m                                 Traceback (most recent call last)",
      "Cell \u001b[1;32mIn [1], line 1\u001b[0m\n\u001b[1;32m----> 1\u001b[0m \u001b[39mclass\u001b[39;00m \u001b[39mBinarySearchTreeSet\u001b[39;00m(AbstractSet):\n\u001b[0;32m      3\u001b[0m     \u001b[39mdef\u001b[39;00m \u001b[39m__init__\u001b[39m(\u001b[39mself\u001b[39m):\n\u001b[0;32m      4\u001b[0m         \u001b[39m# ADD YOUR CODE HERE\u001b[39;00m\n\u001b[0;32m      5\u001b[0m         \u001b[39mself\u001b[39m\u001b[39m.\u001b[39mroot \u001b[39m=\u001b[39m \u001b[39mNone\u001b[39;00m\n",
      "\u001b[1;31mNameError\u001b[0m: name 'AbstractSet' is not defined"
     ]
    }
   ],
   "source": [
    "class BinarySearchTreeSet(AbstractSet):\n",
    "    \n",
    "    def __init__(self):\n",
    "        # ADD YOUR CODE HERE\n",
    "        self.root = None\n",
    "        \n",
    "        \n",
    "        pass           \n",
    "     \n",
    "    \n",
    "        \n",
    "    def insertElement(self, element):\n",
    "        inserted = False\n",
    "        # ADD YOUR CODE HERE\n",
    "        if self.root is None:\n",
    "            self.root = {'val': element, 'left': None, 'right': None}\n",
    "            inserted = True\n",
    "        else:\n",
    "            current = self.root\n",
    "            while current is not None:\n",
    "                if current['val'] == element:\n",
    "                    inserted = False\n",
    "                    break\n",
    "                elif current['val'] > element:\n",
    "                    if current['left'] is None:\n",
    "                        current['left'] = {'val': element, 'left': None, 'right': None}\n",
    "                        inserted = True\n",
    "                        break\n",
    "                    else:\n",
    "                        current = current['left']\n",
    "                else:\n",
    "                    if current['right'] is None:\n",
    "                        current['right'] = {'val': element, 'left': None, 'right': None}\n",
    "                        inserted = True\n",
    "                        break\n",
    "                    else:\n",
    "                        current = current['right']\n",
    "        \n",
    "        return inserted\n",
    "    \n",
    "    \n",
    "\n",
    "    def searchElement(self, element):     \n",
    "        found = False\n",
    "        # ADD YOUR CODE HERE\n",
    "        current = self.root\n",
    "        while current is not None:\n",
    "            if current['val'] == element:\n",
    "                found = True\n",
    "                break\n",
    "            elif current['val'] > element:\n",
    "                    current = current['left']\n",
    "            else:\n",
    "                    current = current['right']\n",
    "        \n",
    "        return found\n",
    "    \n",
    "# binary search tree need TreeNode\n",
    "class BinarySearchTreeSet(AbstractSet):\n",
    "    def __init__(self):\n",
    "        self.root = None\n",
    "        self.size = 0\n",
    "        \n",
    "    def insertElement(self, element):\n",
    "        inserted = False\n",
    "        if self.root is None:\n",
    "            self.root = TreeNode(element)\n",
    "            self.size += 1\n",
    "            inserted = True\n",
    "        else:\n",
    "            current = self.root\n",
    "            while True:\n",
    "                if element < current.val:\n",
    "                    if current.left is None:\n",
    "                        current.left = TreeNode(element)\n",
    "                        self.size += 1\n",
    "                        inserted = True\n",
    "                        break\n",
    "                    else:\n",
    "                        current = current.left\n",
    "                elif element > current.val:\n",
    "                    if current.right is None:\n",
    "                        current.right = TreeNode(element)\n",
    "                        self.size += 1\n",
    "                        inserted = True\n",
    "                        break\n",
    "                    else:\n",
    "                        current = current.right\n",
    "                else:\n",
    "                    # element is already in the tree\n",
    "                    break\n",
    "        return inserted\n",
    "    \n",
    "    def searchElement(self, element):\n",
    "        found = False\n",
    "        current = self.root\n",
    "        while current is not None:\n",
    "            if element == current.val:\n",
    "                found = True\n",
    "                return found\n",
    "            elif element < current.val:\n",
    "                current = current.left\n",
    "            else:\n",
    "                current = current.right\n",
    "        return found"
   ]
  },
  {
   "cell_type": "markdown",
   "metadata": {},
   "source": [
    "Use the cell below to implement the requested API by means of **balanced search tree**."
   ]
  },
  {
   "cell_type": "code",
   "execution_count": 5,
   "metadata": {},
   "outputs": [],
   "source": [
    "class BalancedSearchTreeSet(AbstractSet):\n",
    "    \n",
    "    def __init__(self):\n",
    "        # ADD YOUR CODE HERE\n",
    "\n",
    "        \n",
    "        pass           \n",
    "     \n",
    "    \n",
    "        \n",
    "    def insertElement(self, element):\n",
    "        inserted = False\n",
    "        # ADD YOUR CODE HERE\n",
    "      \n",
    "        \n",
    "        return inserted\n",
    "    \n",
    "    \n",
    "\n",
    "    def searchElement(self, element):     \n",
    "        found = False\n",
    "        # ADD YOUR CODE HERE\n",
    "\n",
    "        \n",
    "        return found    "
   ]
  },
  {
   "cell_type": "markdown",
   "metadata": {},
   "source": [
    "Use the cell below to implement the requested API by means of **bloom filter**."
   ]
  },
  {
   "cell_type": "code",
   "execution_count": null,
   "metadata": {},
   "outputs": [],
   "source": [
    "class BloomFilterSet(AbstractSet):\n",
    "    \n",
    "    def __init__(self):\n",
    "        # ADD YOUR CODE HERE\n",
    "        self.size = size\n",
    "        self.hash_count = has_count\n",
    "        self.bit_array = [0] * size\n",
    "        pass           \n",
    "     \n",
    "    \n",
    "        \n",
    "    def insertElement(self, element):\n",
    "        inserted = False\n",
    "        # ADD YOUR CODE HERE\n",
    "        for seed in range(self.hash_count):\n",
    "            result = mmh3.hash(string, seed) % self.size\n",
    "            self.bit_array[result] = 1\n",
    "        \n",
    "        inserted = True\n",
    "        return inserted\n",
    "    \n",
    "    \n",
    "\n",
    "    def searchElement(self, element):     \n",
    "        # ADD YOUR CODE HERE\n",
    "        for seed in range(self.hash_count):\n",
    "            result = mmh3.hash(string, seed) % self.size\n",
    "            if self.bit_array[result] == 0:\n",
    "                return False\n",
    "        return True"
   ]
  },
  {
   "cell_type": "markdown",
   "metadata": {},
   "source": [
    "Use the cell below to implement the **synthetic data generator** as part of your experimental framework."
   ]
  },
  {
   "cell_type": "code",
   "execution_count": 7,
   "metadata": {},
   "outputs": [],
   "source": [
    "import string\n",
    "import random\n",
    "\n",
    "class TestDataGenerator(AbstractTestDataGenerator):\n",
    "    \n",
    "    def __init__(self):\n",
    "        # ADD YOUR CODE HERE\n",
    "        \n",
    "        \n",
    "        pass           \n",
    "        \n",
    "    def generateData(self, size):     \n",
    "        # ADD YOUR CODE HERE\n",
    "        data = [\"\"]*size\n",
    "        \n",
    "\n",
    "        return data   \n",
    "\n"
   ]
  },
  {
   "cell_type": "markdown",
   "metadata": {},
   "source": [
    "Use the cells below for the python code needed to **fully evaluate your implementations**, first on real data and subsequently on synthetic data (i.e., read data from test files / generate synthetic one, instantiate each of the 4 set implementations in turn, then thorouhgly experiment with insert/search operations and measure their performance)."
   ]
  },
  {
   "cell_type": "code",
   "execution_count": 8,
   "metadata": {},
   "outputs": [],
   "source": [
    "import timeit\n",
    "\n",
    "# ADD YOUR TEST CODE HERE TO WORK ON REAL DATA\n",
    "\n",
    "\n",
    "\n"
   ]
  },
  {
   "cell_type": "code",
   "execution_count": 9,
   "metadata": {},
   "outputs": [],
   "source": [
    "import timeit\n",
    "\n",
    "# ADD YOUR TEST CODE HERE TO WORK ON SYNTHETIC DATA\n",
    "\n",
    "\n",
    "\n"
   ]
  }
 ],
 "metadata": {
  "kernelspec": {
   "display_name": "Python 3",
   "language": "python",
   "name": "python3"
  },
  "language_info": {
   "codemirror_mode": {
    "name": "ipython",
    "version": 3
   },
   "file_extension": ".py",
   "mimetype": "text/x-python",
   "name": "python",
   "nbconvert_exporter": "python",
   "pygments_lexer": "ipython3",
   "version": "3.10.7"
  },
  "vscode": {
   "interpreter": {
    "hash": "ab6a3bf97e9dc6433b66ad95a799cf7bb97ea8ec99d5f81f0a819aa6af50afe0"
   }
  }
 },
 "nbformat": 4,
 "nbformat_minor": 4
}
